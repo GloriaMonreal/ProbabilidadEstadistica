{
  "nbformat": 4,
  "nbformat_minor": 0,
  "metadata": {
    "colab": {
      "provenance": [],
      "authorship_tag": "ABX9TyO2wlmZlSbsV2egn2iRe7w/",
      "include_colab_link": true
    },
    "kernelspec": {
      "name": "python3",
      "display_name": "Python 3"
    },
    "language_info": {
      "name": "python"
    }
  },
  "cells": [
    {
      "cell_type": "markdown",
      "metadata": {
        "id": "view-in-github",
        "colab_type": "text"
      },
      "source": [
        "<a href=\"https://colab.research.google.com/github/GloriaMonreal/ProbabilidadEstadistica/blob/main/PRO_U1_Practica1.ipynb\" target=\"_parent\"><img src=\"https://colab.research.google.com/assets/colab-badge.svg\" alt=\"Open In Colab\"/></a>"
      ]
    },
    {
      "cell_type": "markdown",
      "source": [
        "##Instituto Tecnologico de Mexico Campus Durango\n",
        "\n",
        "Ing.Sistemas Computacionales\n",
        "\n",
        "# Probabilidad y Estadistica\n",
        "\n",
        "Alumno:\n",
        "Gloria Angelica Monreal Muñoz\n",
        "\n",
        "Docente:\n",
        "José Gabriel Rodríguez Rivas\n",
        "\n"
      ],
      "metadata": {
        "id": "_ENvIvqaWrZ0"
      }
    },
    {
      "cell_type": "markdown",
      "source": [
        "##Ejemplo 1:"
      ],
      "metadata": {
        "id": "48Vd_vwneEdh"
      }
    },
    {
      "cell_type": "code",
      "execution_count": 12,
      "metadata": {
        "colab": {
          "base_uri": "https://localhost:8080/"
        },
        "id": "Q8TFTOvrU4FK",
        "outputId": "ef9bd5bb-02e6-4c4d-fefd-4e2884aa9f45"
      },
      "outputs": [
        {
          "output_type": "stream",
          "name": "stdout",
          "text": [
            "[70, 70, 65, 90, 100, 95, 45, 80, 73, 20, 100, 96]\n"
          ]
        }
      ],
      "source": [
        "from statistics import *\n",
        "#Formar una lista de calificaciones\n",
        "grupoa = [70, 70, 65, 90, 100, 95, 45, 80, 73, 20, 100, 96]\n",
        "print(grupoa)"
      ]
    },
    {
      "cell_type": "code",
      "source": [
        "type(grupoa)"
      ],
      "metadata": {
        "colab": {
          "base_uri": "https://localhost:8080/"
        },
        "id": "LZfz5eoIV1Su",
        "outputId": "ad6d2ab5-d8ba-465d-afb5-aa8821dd2358"
      },
      "execution_count": 9,
      "outputs": [
        {
          "output_type": "execute_result",
          "data": {
            "text/plain": [
              "list"
            ]
          },
          "metadata": {},
          "execution_count": 9
        }
      ]
    },
    {
      "cell_type": "code",
      "source": [
        "#Sacar la media de la lista de calificaciones con una formula\n",
        "\n",
        "promedio = sum(grupoa)/len(grupoa)\n",
        "print(promedio)"
      ],
      "metadata": {
        "colab": {
          "base_uri": "https://localhost:8080/"
        },
        "id": "7j4Y3wxOVGz9",
        "outputId": "4c8e56b7-2963-4796-9969-4d4ea5d3bb4a"
      },
      "execution_count": 8,
      "outputs": [
        {
          "output_type": "stream",
          "name": "stdout",
          "text": [
            "75.33333333333333\n"
          ]
        }
      ]
    },
    {
      "cell_type": "code",
      "source": [
        "#Sacar mediana a partir de \"mean\"\n",
        "promedio2 = mean(grupoa)\n",
        "print(promedio2)"
      ],
      "metadata": {
        "colab": {
          "base_uri": "https://localhost:8080/"
        },
        "id": "0DhbokYiXWcG",
        "outputId": "6beb4d78-36fb-41b4-ac48-db6c0c611380"
      },
      "execution_count": 14,
      "outputs": [
        {
          "output_type": "stream",
          "name": "stdout",
          "text": [
            "75.33333333333333\n"
          ]
        }
      ]
    },
    {
      "cell_type": "code",
      "source": [
        "#Determinar el valor de la mediana\n",
        "\n",
        "mediana = median(grupoa)\n",
        "print(mediana)"
      ],
      "metadata": {
        "colab": {
          "base_uri": "https://localhost:8080/"
        },
        "id": "O3sRoeAuW3FZ",
        "outputId": "c44ee7b0-0621-4cf0-e1aa-927ec85f7a2b"
      },
      "execution_count": 13,
      "outputs": [
        {
          "output_type": "stream",
          "name": "stdout",
          "text": [
            "76.5\n"
          ]
        }
      ]
    },
    {
      "cell_type": "code",
      "source": [
        "#Determinar el valor de la moda\n",
        "\n",
        "moda = mode(grupoa)\n",
        "print(moda)"
      ],
      "metadata": {
        "colab": {
          "base_uri": "https://localhost:8080/"
        },
        "id": "Mldy2fuNXlR2",
        "outputId": "42d3c307-d2e7-4624-98de-a734025b8074"
      },
      "execution_count": 16,
      "outputs": [
        {
          "output_type": "stream",
          "name": "stdout",
          "text": [
            "70\n"
          ]
        }
      ]
    },
    {
      "cell_type": "code",
      "source": [
        "#En caso de existir mas de 1 moda, se puede emplear la muncion multimode para sacar todas las modas existentes\n",
        "\n",
        "moda2 = multimode(grupoa)\n",
        "print(moda2)"
      ],
      "metadata": {
        "colab": {
          "base_uri": "https://localhost:8080/"
        },
        "id": "yENPF5FIXz8B",
        "outputId": "cbd0d35d-993b-4f2a-b09d-61430923df0f"
      },
      "execution_count": 15,
      "outputs": [
        {
          "output_type": "stream",
          "name": "stdout",
          "text": [
            "[70, 100]\n"
          ]
        }
      ]
    },
    {
      "cell_type": "markdown",
      "source": [
        "###Ejemplo 2. Tiempos de 100 mtrs de un grupo de 12 alumnos"
      ],
      "metadata": {
        "id": "zM5LERQqd8PW"
      }
    },
    {
      "cell_type": "code",
      "source": [
        "\n",
        "\n",
        "tiempos100mts = [15.10, 17.20, 14.69, 13.27, 22.15, 18.71, 19.15, 20.65, 15.10, 17.20]\n",
        "\n",
        "#Desplegamos la lista\n",
        "print(tiempos100mts)"
      ],
      "metadata": {
        "colab": {
          "base_uri": "https://localhost:8080/"
        },
        "id": "1HM0Q7TkYkye",
        "outputId": "9fafdbc5-18bf-41e9-ac5e-43237d7bc257"
      },
      "execution_count": 19,
      "outputs": [
        {
          "output_type": "stream",
          "name": "stdout",
          "text": [
            "[15.1, 17.2, 14.69, 13.27, 22.15, 18.71, 19.15, 20.65, 15.1, 17.2]\n"
          ]
        }
      ]
    },
    {
      "cell_type": "code",
      "source": [
        "#Usamos la funcion para determinar el promedio\n",
        "print(\"El tiempo promedio de los corredores es: \", mean(tiempos100mts))"
      ],
      "metadata": {
        "colab": {
          "base_uri": "https://localhost:8080/"
        },
        "id": "T91fywQUZld1",
        "outputId": "54a966be-19d2-40d7-a03e-602550a99fe2"
      },
      "execution_count": 23,
      "outputs": [
        {
          "output_type": "stream",
          "name": "stdout",
          "text": [
            "El tiempo promedio de los corredores es:  17.322\n"
          ]
        }
      ]
    },
    {
      "cell_type": "code",
      "source": [
        "#Definimos una variable \"mediana\" para calcular la mediana de la lista\n",
        "mediana = median(tiempos100mts)\n",
        "print(\"La media de los tiempos de los corredores es: \", mediana)"
      ],
      "metadata": {
        "colab": {
          "base_uri": "https://localhost:8080/"
        },
        "id": "b5jkCgtDaQdU",
        "outputId": "3c423af0-6be8-42b3-9e98-af7d08eb9a79"
      },
      "execution_count": 22,
      "outputs": [
        {
          "output_type": "stream",
          "name": "stdout",
          "text": [
            "La media de los tiempos de los corredores es:  17.2\n"
          ]
        }
      ]
    },
    {
      "cell_type": "code",
      "source": [
        "#Definimos una variable \"moda\" para calcular la moda de la lista\n",
        "moda = mode(tiempos100mts)\n",
        "print(\"La moda de los tiempos de los corredores es: \", moda)"
      ],
      "metadata": {
        "colab": {
          "base_uri": "https://localhost:8080/"
        },
        "id": "lNiyIsJQayeS",
        "outputId": "86136706-609d-401a-804e-cbf1491ad404"
      },
      "execution_count": 21,
      "outputs": [
        {
          "output_type": "stream",
          "name": "stdout",
          "text": [
            "La moda de los tiempos de los corredores es:  15.1\n"
          ]
        }
      ]
    },
    {
      "cell_type": "code",
      "source": [
        "#Usamos \"multimode\" en caso de que sea bimodal o multimodal\n",
        "multimoda = multimode(tiempos100mts)\n",
        "print(\"Las modas de los tiempos de los corredores son: \", multimoda)"
      ],
      "metadata": {
        "id": "U5WTE3rCbQC3"
      },
      "execution_count": null,
      "outputs": []
    },
    {
      "cell_type": "markdown",
      "source": [
        "##Ejemplo 3: Histograma de 2 grupos"
      ],
      "metadata": {
        "id": "SZ3cUCLIdyrl"
      }
    },
    {
      "cell_type": "code",
      "source": [
        "#Libreria para generar numeros aleatorios\n",
        "import random"
      ],
      "metadata": {
        "id": "hKWHgh1Tb0Ad"
      },
      "execution_count": 25,
      "outputs": []
    },
    {
      "cell_type": "code",
      "source": [
        "fabrica1 = []\n",
        "for i in range(100):\n",
        "  numero_aleatorio = round(random.uniform(50, 100), 2)\n",
        "  fabrica1.append(numero_aleatorio)\n",
        "print(fabrica1)"
      ],
      "metadata": {
        "colab": {
          "base_uri": "https://localhost:8080/"
        },
        "collapsed": true,
        "id": "NkyxJMJhb98j",
        "outputId": "669c3ae1-d6a2-4297-f3e5-13b2568c28d1"
      },
      "execution_count": 28,
      "outputs": [
        {
          "output_type": "stream",
          "name": "stdout",
          "text": [
            "[51.78, 84.78, 85.47, 63.04, 98.89, 77.11, 74.93, 95.23, 59.27, 86.53, 74.15, 93.28, 78.06, 76.76, 61.68, 69.34, 64.34, 51.68, 87.89, 70.19, 97.62, 65.59, 82.63, 84.91, 92.68, 97.59, 96.61, 56.73, 97.4, 90.49, 90.19, 98.85, 97.42, 78.54, 60.38, 92.7, 64.17, 99.46, 84.14, 84.29, 69.83, 61.42, 74.56, 81.02, 67.89, 59.87, 56.84, 65.64, 58.63, 53.83, 89.84, 55.16, 74.27, 74.57, 98.6, 99.11, 60.16, 73.92, 91.46, 98.57, 95.91, 54.53, 70.17, 86.27, 72.99, 84.74, 62.24, 69.87, 76.62, 86.27, 68.19, 87.01, 76.85, 91.12, 80.32, 74.48, 98.44, 77.06, 98.31, 63.88, 78.55, 62.29, 94.17, 66.58, 67.22, 52.96, 82.72, 96.12, 64.17, 81.09, 60.6, 63.79, 99.6, 87.42, 71.51, 69.37, 78.62, 88.81, 97.17, 61.95]\n"
          ]
        }
      ]
    },
    {
      "cell_type": "code",
      "source": [
        "fabrica2 = []\n",
        "for i in range(100):\n",
        "  numero_aleatorio2 = round(random.uniform(50, 100), 2)\n",
        "  fabrica2.append(numero_aleatorio2)\n",
        "print(fabrica2)"
      ],
      "metadata": {
        "colab": {
          "base_uri": "https://localhost:8080/"
        },
        "id": "xM5xDZt1ceQ8",
        "outputId": "d07272b1-b33f-4b74-8173-ca37b4979c6d"
      },
      "execution_count": 29,
      "outputs": [
        {
          "output_type": "stream",
          "name": "stdout",
          "text": [
            "[92.39, 53.64, 75.56, 77.62, 52.67, 80.71, 97.27, 84.11, 96.17, 89.53, 89.48, 98.88, 90.77, 85.88, 51.32, 67.36, 93.46, 56.82, 80.77, 56.01, 86.11, 94.81, 88.33, 90.06, 74.29, 91.37, 52.55, 73.84, 65.0, 56.96, 81.87, 88.44, 73.62, 89.96, 95.48, 80.63, 86.47, 98.64, 99.41, 50.57, 76.67, 59.29, 89.59, 90.73, 90.65, 76.77, 83.16, 87.11, 89.52, 91.03, 52.73, 69.03, 90.47, 66.16, 72.13, 61.44, 89.25, 89.0, 89.2, 67.98, 50.25, 63.21, 54.46, 68.71, 59.09, 99.33, 61.16, 85.33, 68.74, 60.75, 75.72, 85.58, 94.39, 87.68, 87.79, 97.08, 94.29, 68.24, 88.96, 57.36, 61.96, 61.15, 90.09, 78.82, 75.64, 97.12, 77.47, 80.42, 71.28, 88.02, 93.29, 80.32, 94.33, 55.13, 87.19, 68.45, 66.74, 94.53, 62.07, 62.41]\n"
          ]
        }
      ]
    },
    {
      "cell_type": "code",
      "source": [
        "#Libreria de python para graficar valores\n",
        "import matplotlib.pyplot as plt"
      ],
      "metadata": {
        "id": "C3ZfSB9rdnGH"
      },
      "execution_count": 31,
      "outputs": []
    },
    {
      "cell_type": "code",
      "source": [
        "plt.hist(fabrica1)\n",
        "plt.title(\"Produccion diaria de la Fabrica 1\")"
      ],
      "metadata": {
        "colab": {
          "base_uri": "https://localhost:8080/",
          "height": 470
        },
        "id": "1K0B9rD7eT9P",
        "outputId": "de63d925-7a86-4216-b631-7e79dea256a1"
      },
      "execution_count": 32,
      "outputs": [
        {
          "output_type": "execute_result",
          "data": {
            "text/plain": [
              "Text(0.5, 1.0, 'Produccion diaria de la Fabrica 1')"
            ]
          },
          "metadata": {},
          "execution_count": 32
        },
        {
          "output_type": "display_data",
          "data": {
            "text/plain": [
              "<Figure size 640x480 with 1 Axes>"
            ],
            "image/png": "[encoded data removed]"
          },
          "metadata": {}
        }
      ]
    }
  ]
}